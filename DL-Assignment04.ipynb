{
 "cells": [
  {
   "cell_type": "markdown",
   "metadata": {
    "id": "9DKZj8jK_Dry"
   },
   "source": [
    "# Assignment 4: Multi-Output Networks and Batch Processing\n",
    "\n",
    "\n",
    "The goal of this exercise is to get to know some regularization techniques when implementing deep learning methods.\n",
    "For this purpose, we select a dataset that contains data in different formats, some binary ($x_d \\in \\{-1,1\\}$) and some numerical ($x_d\\in \\mathbb N$); and some are categorical, which we ignore for now.\n",
    "As target values, this dataset contains three numerical outputs, so, $\\vec t \\in \\mathbb R^3$ for each sample.\n",
    "These target values should be approximated with a two-layer multi-output network that we will train with the $\\mathcal J^{L_2}$ loss.\n",
    "\n",
    "\n",
    "\n",
    "Remember to make use of `numpy` in the matrix calculation, e.g. `numpy.dot`, `numpy.exp`, `numpy.mean` \n"
   ]
  },
  {
   "cell_type": "markdown",
   "metadata": {
    "id": "5lrQLreklXtS"
   },
   "source": [
    "## Dataset\n",
    "\n",
    "The dataset of our choice is the Student Performance estimation dataset that was collected in Portugal in two different schools and with two different subjects, i.e., math and Portuguese (the mother tongue).\n",
    "The dataset contains many different inputs such as a binary representation of the school, gender, family sizes, and alike, as well as numerical representations of age, travel time, and alcohol consumption.\n",
    "The dataset also includes some categorical data, which we skip in this assignment.\n",
    "See https://archive.ics.uci.edu/ml/datasets/Student+Performance for more information on the dataset.\n",
    "As a start, we will rely on the Portuguese performance (`\"por\"`), but you can also try to use the Math samples (`\"mat\"`)."
   ]
  },
  {
   "cell_type": "markdown",
   "metadata": {
    "id": "HSol7VoalR-7"
   },
   "source": [
    "### Task 1: Dataset Loading\n",
    "\n",
    "\n",
    "Load the dataset from files and provide the input matrix $\\mathbf X \\in \\mathbb R^{(D+1)\\times N}$ and the output matrix $\\mathbf T \\in \\mathbb R^{O\\times N}$.\n",
    "\n",
    "Due to the difficulty of the task, most of the implementation is provided.\n",
    "The implementation is very literal and, therefore, hopefully readable, while maybe not the most efficient.\n",
    "\n",
    "We skip categorical inputs (indexes 8-11) for now.\n",
    "All other entries are converted either into binary $(-1,1)$ or into an integer range $(0,1,\\ldots)$.\n",
    "The three outputs range between 0 and 20 each. The bias value for $x_0=1$ is also already included.\n",
    "You just need to make sure that the data $(X,T)$ is returned in the desired format."
   ]
  },
  {
   "cell_type": "code",
   "execution_count": 1,
   "metadata": {
    "id": "wE3DlW-e_Dr1"
   },
   "outputs": [],
   "source": [
    "import math\n",
    "import numpy\n",
    "import os\n",
    "\n",
    "# Dataset origin: https://archive.ics.uci.edu/ml/datasets/Student+Performance\n",
    "\n",
    "def dataset(course=\"por\"):\n",
    "    # load dataset and provide input and target data\n",
    "    # possible data files are \"mat\" and \"por\"\n",
    "\n",
    "    # download data file from URL\n",
    "    dataset_zip_file = \"student.zip\"\n",
    "    if not os.path.exists(dataset_zip_file):\n",
    "        import urllib.request\n",
    "        urllib.request.urlretrieve(\"https://archive.ics.uci.edu/ml/machine-learning-databases/00320/student.zip\", dataset_zip_file)\n",
    "        print (\"Downloaded datafile\", dataset_zip_file)\n",
    "\n",
    "    import zipfile\n",
    "    import csv\n",
    "    import io\n",
    "\n",
    "    # collect inputs\n",
    "    inputs = []\n",
    "    targets = []\n",
    "    # some default values: yes=1, no=-1\n",
    "    yn = {\"yes\":1.,\"no\":-1.}\n",
    "    # read through dataset (without actually unzippiung to a file):\n",
    "    # ... open zip file\n",
    "    zip = zipfile.ZipFile(dataset_zip_file)\n",
    "    # ... open data file inside of zip file and convert bytes to text\n",
    "    datafile = io.TextIOWrapper(zip.open(os.path.join(F\"student-{course}.csv\"), 'r'))\n",
    "    # ... read through the lines via CSV reader, using the correct delimited\n",
    "    reader = csv.reader(datafile, delimiter=\";\")\n",
    "    # ... skip header line\n",
    "    next(reader)\n",
    "    for splits in reader:\n",
    "    # read input values\n",
    "        inputs.append([\n",
    "        1.,                             #### BIAS ####\n",
    "        {\"GP\":1.,\"MS\":-1.}[splits[0]],  # school\n",
    "        {\"M\":1.,\"F\":-1.}[splits[1]],    # gender\n",
    "        float(splits[2]),               # age\n",
    "        {\"U\":1.,\"R\":-1.}[splits[3]],    # address\n",
    "        {\"LE3\":1.,\"GT3\":-1.}[splits[4]],# family size\n",
    "        {\"T\":1.,\"A\":-1.}[splits[5]],    # parents living together\n",
    "        float(splits[6]),               # mother education\n",
    "        float(splits[7]),               # father education\n",
    "        # skip categorical values\n",
    "        float(splits[12]),              # travel time\n",
    "        float(splits[13]),              # study time\n",
    "        float(splits[14]),              # failures\n",
    "        yn[splits[15]],                 # extra support\n",
    "        yn[splits[16]],                 # family support\n",
    "        yn[splits[17]],                 # paid support\n",
    "        yn[splits[18]],                 # activities\n",
    "        yn[splits[19]],                 # nursery school\n",
    "        yn[splits[20]],                 # higher education\n",
    "        yn[splits[21]],                 # internet\n",
    "        yn[splits[22]],                 # romantic\n",
    "        float(splits[23]),              # family relation\n",
    "        float(splits[24]),              # free time\n",
    "        float(splits[25]),              # going out\n",
    "        float(splits[26]),              # workday alcohol\n",
    "        float(splits[27]),              # weekend alcohol\n",
    "        float(splits[28]),              # health\n",
    "        float(splits[29]),              # absences\n",
    "    ])\n",
    "\n",
    "        # read targets values\n",
    "        targets.append([\n",
    "            float(splits[30]),              # grade for primary school\n",
    "            float(splits[31]),              # grade for secondary school\n",
    "            float(splits[32]),              # grade for tertiary school\n",
    "        ])\n",
    "    \n",
    "    inputs = numpy.asarray(inputs).transpose()\n",
    "    targets = numpy.asarray(targets).transpose()\n",
    "    \n",
    "    print(F\"Loaded dataset with {len(targets)} samples\")\n",
    "    return inputs, targets"
   ]
  },
  {
   "cell_type": "markdown",
   "metadata": {
    "id": "FWNwt2Rb_Dr3"
   },
   "source": [
    "### Test 1: Assert Valid Outputs\n",
    "\n",
    "This test will check the dimension of the loaded dataset, i.e. $\\mathbf X\\in \\mathbb R^{(D+1)\\times N}$ and $\\mathbf T \\in \\mathbb R^{O\\times N}$, and also assure that all target data is in the range $t\\in[0,20]$.\n",
    "\n",
    "Please make sure that your implementation can pass these tests before moving to the next task"
   ]
  },
  {
   "cell_type": "code",
   "execution_count": 2,
   "metadata": {
    "colab": {
     "base_uri": "https://localhost:8080/"
    },
    "id": "jaCpzc-l_Dr3",
    "outputId": "6fefb52a-492d-489a-aec3-156623dd939c"
   },
   "outputs": [
    {
     "name": "stdout",
     "output_type": "stream",
     "text": [
      "Loaded dataset with 3 samples\n",
      "[[ 1.  1.  1. ...  1.  1.  1.]\n",
      " [ 1.  1.  1. ... -1. -1. -1.]\n",
      " [-1. -1. -1. ... -1.  1.  1.]\n",
      " ...\n",
      " [ 1.  1.  3. ...  1.  4.  4.]\n",
      " [ 3.  3.  3. ...  5.  2.  5.]\n",
      " [ 4.  2.  6. ...  6.  6.  4.]]\n"
     ]
    }
   ],
   "source": [
    "X, T = dataset(\"por\")\n",
    "print(X)\n",
    "\n",
    "assert numpy.all(T >= 0) and numpy.all(T <= 20)\n",
    "\n",
    "assert X.shape[0] == 27\n",
    "assert T.shape[0] == 3\n",
    "assert T.shape[1] == X.shape[1]"
   ]
  },
  {
   "cell_type": "markdown",
   "metadata": {
    "id": "dfk_P5eG_Dr3"
   },
   "source": [
    "### Task 2: Input Data Standardization\n",
    "\n",
    "Since the data is in different input regimes, we want to standardize the data.\n",
    "For this purpose, we need to compute the mean and the standard deviation of the data for each input dimension.\n",
    "Then, we implement a function to perform the standardization of the data using the previously computed mean and standard deviation. Make sure that you handle the bias neuron $x_0$ correctly.\n",
    "\n",
    "Please note that `numpy` has all the functionality that you need."
   ]
  },
  {
   "cell_type": "code",
   "execution_count": 3,
   "metadata": {
    "id": "0bUpUAHR_Dr3"
   },
   "outputs": [],
   "source": [
    "# compute mean and standard deviation over dataset\n",
    "mean = numpy.mean(X, axis = 1)\n",
    "std = numpy.std(X, axis = 1)\n",
    "\n",
    "# assure to handle x_0 correctly\n",
    "\n",
    "\n",
    "def standardize(x, mean, std):\n",
    "    # standardize the given data with the given mean and standard deviation\n",
    "    col_ls = list()\n",
    "    for idx in range(len(x)):\n",
    "        value_ls = list()\n",
    "        if idx == 0:\n",
    "            for jdx in range(len(x[idx])):\n",
    "                value_ls.append(0.0)\n",
    "        else:\n",
    "            for value in x[idx]:\n",
    "                x_std = (value - mean[idx]) / std[idx]\n",
    "                value_ls.append(round(x_std, 2))\n",
    "        col_ls.append(value_ls)\n",
    "    \n",
    "    X_std = numpy.asarray(col_ls)\n",
    "    return X_std\n",
    "        \n",
    "\n",
    "# standardize our dataset\n",
    "X = standardize(X, mean, std)\n"
   ]
  },
  {
   "cell_type": "markdown",
   "metadata": {
    "id": "6MZ_MPc-_Dr4"
   },
   "source": [
    "### Task 3: Batch Processing\n",
    "\n",
    "In order to run stochastic gradient descent, we need to split our dataset into batches of a certain batch size $B$. Implement a function that turns the dataset $(X,T)$ into batches of a certain batch size $B$.\n",
    "Implement this function as a generator function, i.e., use ``yield`` instead of ``return``.\n",
    "Circulate the dataset afresh when all data is consumed, and shuffle the data in each epoch.\n",
    "Make sure that you yield both the input batch and the target batch."
   ]
  },
  {
   "cell_type": "code",
   "execution_count": 4,
   "metadata": {
    "id": "GoDHo80J_Dr4"
   },
   "outputs": [],
   "source": [
    "from copy import deepcopy\n",
    "def batch(X, T, batch_size=16):\n",
    "    shuffle = numpy.random.permutation(T.shape[1])\n",
    "    idx = 0\n",
    "    while True:\n",
    "        # shuffle dataset in each epoch\n",
    "        yield X[:,shuffle[idx:idx + batch_size]], T[:,shuffle[idx:idx + batch_size]]\n",
    "        idx += batch_size\n",
    "        if (idx >= T.shape[1]):\n",
    "            shuffle = numpy.random.permutation(T.shape[1])\n",
    "            idx = 0"
   ]
  },
  {
   "cell_type": "markdown",
   "metadata": {
    "id": "NgBsBOsa_Dr4"
   },
   "source": [
    "### Test 2: Test your Batches\n",
    "\n",
    "This test is to assure that your batch generation function works as expected. \n",
    "We define some test data for this purpose.\n",
    "The code below checks whether your batch function returns batches with correct content, i.e., $(\\vec x, \\vec t)$-alignment. \n",
    "It also checks that the batches are in the correct dimensions, i.e., that $\\mathbf X \\in \\mathbb R^{(D+1)\\times B}$ and $\\mathbf T \\in \\mathbb R^{O\\times B}$.\n",
    "\n",
    "Make sure you can pass this test before moving forward."
   ]
  },
  {
   "cell_type": "code",
   "execution_count": 5,
   "metadata": {
    "id": "fFndxbf1_CmR"
   },
   "outputs": [],
   "source": [
    "XX = numpy.array([[i] * 5 for i in range(50)]).T\n",
    "TT = numpy.array([[i] for i in range(10,60)]).T\n",
    "\n",
    "for counter, (x,t) in enumerate(batch(XX, TT, 10)):\n",
    "    assert x.shape[0] == 5\n",
    "    assert x.shape[1] == 10\n",
    "    assert t.shape[0] == 1\n",
    "    assert t.shape[1] == 10\n",
    "    assert numpy.all(x == t-10)\n",
    "    if counter == 20: break"
   ]
  },
  {
   "cell_type": "markdown",
   "metadata": {
    "id": "0B8o_mE1l6mp"
   },
   "source": [
    "### Gradient Descent\n",
    "\n",
    "To train a two-layer multi-output regression network, we need to implement some functions.\n",
    "The network output is computed in three steps:\n",
    "\n",
    "  * Compute network activation for a batch of inputs $\\mathbf X$: $\\mathbf A = \\mathbf W^{(1)}\\mathbf X$\n",
    "  * Call the activation function element-wise: $\\mathbf H = g(\\mathbf A)$. Here, we rely on the logistic activation function $\\sigma$. Assure that the hidden neuron bias $\\mathbf H_{0,:}$ is set appropriately.\n",
    "  * Compute the output $\\mathbf Y$ of the batch: $\\mathbf Y = \\mathbf W^{(2)}\\mathbf H$."
   ]
  },
  {
   "cell_type": "markdown",
   "metadata": {
    "id": "0pGCwC0L_Dr4"
   },
   "source": [
    "### Task 4: Multi-Output Network\n",
    "\n",
    "Implement a multi-target network that computes the output matrix $\\mathbf Y$ for a given input dataset/batch $\\mathbf X$ and given parameters $\\Theta=(\\mathbf W^{(1)}, \\mathbf W^{(2)})$ using `numpy` operations. \n",
    "The function should return both the output $\\mathbf Y$ and the output of the hidden units $\\mathbf H$ since we will need these in gradient descent. Select the logistic function $\\sigma$ as the activation function."
   ]
  },
  {
   "cell_type": "code",
   "execution_count": 6,
   "metadata": {
    "id": "j1gErN4z_Dr4"
   },
   "outputs": [],
   "source": [
    "def network(X, Theta):\n",
    "    W1, W2 = Theta\n",
    "\n",
    "    # print(X.shape)\n",
    "    # compute activation\n",
    "    A = numpy.dot(W1,X)\n",
    "    \n",
    "    # compute hidden unit output\n",
    "    H = 1 / (1 + numpy.exp(-A))\n",
    "    \n",
    "    # print(H.shape)\n",
    "    \n",
    "    # compute output\n",
    "    Y = numpy.dot(W2,H)\n",
    "    \n",
    "    return Y, H"
   ]
  },
  {
   "cell_type": "markdown",
   "metadata": {
    "id": "Zt0CMab4_Dr5"
   },
   "source": [
    "### Task 5: Loss Implementation\n",
    "\n",
    "Implement a loss function that returns the squared loss $\\mathcal J^{L_2} = \\frac1B \\|\\mathbf Y - \\mathbf T\\|_F^2$ for given network outputs $\\mathbf Y$ and target values $\\mathbf T$.\n",
    "Use `numpy` or `scipy` functionality for this task."
   ]
  },
  {
   "cell_type": "code",
   "execution_count": 12,
   "metadata": {
    "id": "RSwKiqIc_Dr5"
   },
   "outputs": [],
   "source": [
    "def loss(Y, T):\n",
    "    loss = (1/T.shape[1])*numpy.sum(numpy.square(Y-T))\n",
    "    return loss"
   ]
  },
  {
   "cell_type": "markdown",
   "metadata": {
    "id": "fD2srCKN_Dr5"
   },
   "source": [
    "### Task 6: Gradient Implementation\n",
    "\n",
    "Implement a function that computes and returns the gradient for a given batch $(\\mathbf X, \\mathbf T)$, the given network outputs $\\mathbf Y$ and $\\mathbf H$ as well as current parameters $\\Theta=(\\mathbf W^{(1)}, \\mathbf W^{(2)})$.\n",
    "Make sure to compute the gradient with respect to both weight matrices. Remember that we have used $\\sigma$ as the activation function.\n",
    "Implement the function using the fast version provided in the lecture and make use of `numpy` operations."
   ]
  },
  {
   "cell_type": "code",
   "execution_count": 13,
   "metadata": {},
   "outputs": [
    {
     "name": "stdout",
     "output_type": "stream",
     "text": [
      "[[ 0.    0.    0.   ...  0.    0.    0.  ]\n",
      " [ 0.73  0.73  0.73 ... -1.37 -1.37 -1.37]\n",
      " [-0.83 -0.83 -0.83 ... -0.83  1.2   1.2 ]\n",
      " ...\n",
      " [-1.   -1.    0.56 ... -1.    1.34  1.34]\n",
      " [-0.37 -0.37 -0.37 ...  1.01 -1.06  1.01]\n",
      " [ 0.07 -0.36  0.5  ...  0.5   0.5   0.07]] [[ 0.  9. 12. ... 11. 10. 10.]\n",
      " [11. 11. 13. ... 12. 10. 11.]\n",
      " [11. 11. 12. ...  9. 10. 11.]]\n"
     ]
    }
   ],
   "source": [
    "print(X, T)"
   ]
  },
  {
   "cell_type": "code",
   "execution_count": 14,
   "metadata": {
    "id": "Qe8QYVnP_Dr5"
   },
   "outputs": [],
   "source": [
    "def gradient(X, T, Y, H, Theta):\n",
    "    W1, W2 = Theta\n",
    "    N = T.shape[1]\n",
    "    # print(Y.shape, T.shape)\n",
    "    \n",
    "    # first layer gradient\n",
    "    g1 = (2/N)*(numpy.dot(numpy.dot(numpy.dot(numpy.dot(W2.T, Y-T), H.T), 1-H), X.T))\n",
    " \n",
    "    # second layer gradient\n",
    "    g2 = (2/N)*(numpy.dot(Y-T, H.T))\n",
    "    \n",
    "  \n",
    "    return g1, g2"
   ]
  },
  {
   "cell_type": "markdown",
   "metadata": {
    "id": "CpeCOHbE_Dr5"
   },
   "source": [
    "### Task 7: Iterative Gradient Descent\n",
    "\n",
    "\n",
    "Implement gradient descent for a given number of 10'000 epochs (**not batches!**) using given initial parameters $\\Theta$ and a given batch size $B$, as well as a learning rate of $\\eta=0.001$.\n",
    "\n",
    "Make use of the standardized dataset from Task 2, split into batches with the function from Task 3, the network from Task 4, the loss from Task 5, and the gradient from Task 6.\n",
    "\n",
    "Make sure that the network output $\\mathbf Y$ and the hidden unit output $\\mathbf H$ are computed only once for each batch. After applying gradient descent, add an option to use momentum learning with the given parameter `mu`.\n",
    "At the end of each epoch, compute and store the loss values for each batch in a list, and this list will be returned at the end.\n",
    "\n",
    "How many iterations do we need when $B < N$? How can you know whether your current batch is the last one of the current epoch?"
   ]
  },
  {
   "cell_type": "markdown",
   "metadata": {},
   "source": [
    "#### Answer\n",
    "\n",
    "When the batch size B is smaller than the total number of samples N, we need N/B iterations to complete one epoch. This is because we need to pass over each sample once per epoch, and since we process B samples in each iteration, we need N/B iterations to complete one full pass over the dataset.\n",
    "\n",
    "To know whether the current batch is the last one of the current epoch, we can check if the current batch index c is equal to the total number of batches - 1. We can calculate the total number of batches by dividing the total number of samples N by the batch size B and rounding up to the nearest integer. If c is equal to the total number of batches - 1, then the current batch is the last one of the current epoch."
   ]
  },
  {
   "cell_type": "code",
   "execution_count": 29,
   "metadata": {
    "id": "QnuFqkg-82l2"
   },
   "outputs": [],
   "source": [
    "def gradient_descent(X, T, Theta, B, eta=0.001, mu=None):\n",
    "    loss_values = []\n",
    "    N = T.shape[1]\n",
    "    \n",
    "    max_epochs = 10000\n",
    "    max_batches = numpy.ceil(N/B)\n",
    "    \n",
    "    epoch = 0\n",
    "    batch_no = 0\n",
    "    \n",
    "    gen = batch(X, T, batch_size=B)\n",
    "    \n",
    "    if(mu != None):\n",
    "        W1_hist, W2_hist = Theta\n",
    "    \n",
    "    theta = deepcopy(Theta)\n",
    "    \n",
    "      # iterate over batches\n",
    "    for c,(x,t) in enumerate(gen):\n",
    "        # compute network output\n",
    "        (y, h) = network(x, theta)\n",
    "        # compute and append loss\n",
    "\n",
    "        # compute gradient\n",
    "        (g1, g2) = gradient(x, t, y, h, theta)\n",
    "\n",
    "        # and apply gradient descent\n",
    "        theta[0] -= eta * g1 \n",
    "        theta[1] -= eta * g2 \n",
    "        \n",
    "        # and apply gradient descent\n",
    "        W1 , W2 = theta\n",
    "\n",
    "        if(mu != None):\n",
    "            W1_new = W1 - eta * g1 + mu * (W1 - W1_hist)\n",
    "            W2_new = W2 - eta * g2 + mu * (W2 - W2_hist)\n",
    "        \n",
    "            W1_hist, W2_hist = W1, W2\n",
    "    \n",
    "        else: \n",
    "            theta[0] -= eta * g1 \n",
    "            theta[1] -= eta * g2 \n",
    "\n",
    "        # apply momentum learning if asked\n",
    "        batch_no += 1\n",
    "        \n",
    "        if batch_no >= max_batches:\n",
    "            batch_no = 0\n",
    "            \n",
    "            loss_values.append(loss(y,t))\n",
    "            epoch += 1\n",
    "            \n",
    "            if (epoch >= max_epochs):\n",
    "                print(loss_values[:10])\n",
    "                break\n",
    "\n",
    "      # return the obtained loss values at the end\n",
    "    return loss_values"
   ]
  },
  {
   "cell_type": "markdown",
   "metadata": {
    "id": "NIvoljpW_Dr5"
   },
   "source": [
    "### Task 8: Run Gradient Descent\n",
    "\n",
    "Select an appropriate number of hidden neurons $K$.\n",
    "Instantiate the weight matrices $\\Theta=(\\mathbf W^{(1)}, \\mathbf W^{(2)})$ using the Xavier method as introduced in the lecture.\n",
    "\n",
    "Run the gradient descent three times, first as normal gradient descent, second as stochastic gradient descent with batch size $B=16$, and third with the same setup as the second but with momentum learning involved, select $\\mu =0.9$.\n",
    "\n",
    "How can you achieve this without requiring separate implementations of the ``gradient_descent`` function from Task 7?"
   ]
  },
  {
   "cell_type": "markdown",
   "metadata": {},
   "source": [
    "#### Answer\n",
    "\n",
    "To run the gradient descent three times with different configurations, you can simply pass different parameters to the same gradient_descent function from Task 7.\n",
    "\n",
    "For example, to run normal gradient descent, you can call the gradient_descent function with a large batch size (equal to the total number of examples in the dataset), and with momentum mu=0.\n",
    "\n",
    "To run stochastic gradient descent with a small batch size of 16, you can pass B=16 as a parameter to gradient_descent.\n",
    "\n",
    "To run stochastic gradient descent with momentum learning involved, you can pass both B=16 and mu=0.9 as parameters to gradient_descent."
   ]
  },
  {
   "cell_type": "code",
   "execution_count": 30,
   "metadata": {
    "id": "r4BnX1m8_Dr6"
   },
   "outputs": [
    {
     "name": "stderr",
     "output_type": "stream",
     "text": [
      "C:\\Users\\User\\AppData\\Local\\Temp\\ipykernel_2476\\351734008.py:9: RuntimeWarning: overflow encountered in exp\n",
      "  H = 1 / (1 + numpy.exp(-A))\n"
     ]
    },
    {
     "name": "stdout",
     "output_type": "stream",
     "text": [
      "[438.6783243367774, 446.9793477987258, 409.865985761635, 372.6805760120591, 339.96596155218975, 317.62266849199045, 296.22582839739647, 276.77614249790196, 259.1582336413829, 243.30835142737462]\n",
      "[246.79415610990594, 137.03632793899504, 144.18477773258857, 163.3572471481455, 306.13111335976265, 186.39048455858827, 260.9170632122683, 163.37211731051573, 214.03370939836148, 186.84416806791347]\n",
      "[96.60492108584808, 173.3909733574871, 179.82940967560023, 213.97282610364178, 143.77317803143055, 314.953365646869, 302.8474892772158, 208.53043624113485, 459.8455625535835, 215.50212404744593]\n"
     ]
    }
   ],
   "source": [
    "K = 50\n",
    "D = X.shape[0]\n",
    "O = T.shape[0]\n",
    "var = 2 / (D + O)\n",
    "W1 = numpy.random.randn(D,K) * numpy.sqrt(var)\n",
    "W2 = numpy.random.randn(K,O) * numpy.sqrt(var)\n",
    "Theta = [W1.T, W2.T]\n",
    "\n",
    "import copy\n",
    "# print(W1.shape, W2.shape)\n",
    "\n",
    "# run gradient descent with full dataset\n",
    "Theta1 = copy.deepcopy(Theta)\n",
    "GD = gradient_descent(X, T, Theta, B=X.shape[1])\n",
    "\n",
    "# Run stochastic gradient descent with batches of size 16\n",
    "Theta2 = copy.deepcopy(Theta)\n",
    "SGD = gradient_descent(X, T, Theta, B=16)\n",
    "\n",
    "# Run stochastic gradient descent with batches of size 16 and momentum mu=0.9\n",
    "Theta3 = copy.deepcopy(Theta)\n",
    "SGD_Mo = gradient_descent(X, T, Theta, B=16, mu=0.9)"
   ]
  },
  {
   "cell_type": "markdown",
   "metadata": {
    "id": "Mi5Wt88CnsNB"
   },
   "source": [
    "## Evaluation\n",
    "\n",
    "Finally, we want to evaluate how the learning process went and what the network has actually learned.\n",
    "For the former, we will plot the loss values obtained during training.\n",
    "For the latter, we define one specific sample of our own, and we evaluate the impact of several factors on the performance."
   ]
  },
  {
   "cell_type": "markdown",
   "metadata": {
    "id": "t1CGUw7k_Dr6"
   },
   "source": [
    "### Task 9: Plotting Loss Progression\n",
    "\n",
    "To show the learning process of the networks, plot the loss values of the three gradient descent steps from Task 8 together into one plot.\n",
    "Do we need to take care of something when plotting both together?\n",
    "\n",
    "Use logarithmic axes wherever you see fit.\n",
    "An exemplary loss progression plot can be found in the slides.\n",
    "\n"
   ]
  },
  {
   "cell_type": "markdown",
   "metadata": {},
   "source": [
    "#### Answer\n",
    "\n",
    "When plotting the loss values of the three gradient descent steps from Task 8 together into one plot, it is important to make sure that each line is clearly distinguishable from the others. This can be achieved by using different colors, line styles, and/or markers for each line. Additionally, including a legend indicating which line corresponds to which gradient descent method can be helpful. It is also important to label the axes and provide a title for the plot."
   ]
  },
  {
   "cell_type": "code",
   "execution_count": 31,
   "metadata": {
    "id": "wMFMvuRg_Dr6"
   },
   "outputs": [
    {
     "data": {
      "image/png": "[encoded data removed]",
      "text/plain": [
       "<Figure size 800x600 with 1 Axes>"
      ]
     },
     "metadata": {},
     "output_type": "display_data"
    },
    {
     "data": {
      "image/png": "[encoded data removed]",
      "text/plain": [
       "<Figure size 640x480 with 1 Axes>"
      ]
     },
     "metadata": {},
     "output_type": "display_data"
    }
   ],
   "source": [
    "from matplotlib import pyplot\n",
    "\n",
    "# Plotting Loss Progression\n",
    "pyplot.figure(figsize=(8, 6))\n",
    "pyplot.plot(GD, \"r-\", label=\"Gradient Descent\")\n",
    "pyplot.xlabel(\"Iterations\")\n",
    "pyplot.ylabel(\"Loss\")\n",
    "pyplot.legend()\n",
    "pyplot.show()\n",
    "\n",
    "pyplot.plot(SGD, \"b-\", label=\"Stochastic Gradient Descent\")\n",
    "pyplot.plot(SGD_Mo, \"g-\", label=\"Stochastic Gradient Descent with Momentum\")\n",
    "pyplot.xlabel(\"Iterations\")\n",
    "pyplot.ylabel(\"Loss\")\n",
    "pyplot.legend()\n",
    "pyplot.show()"
   ]
  },
  {
   "cell_type": "markdown",
   "metadata": {},
   "source": [
    "The first graph for simple gradient descent of the full dataset, has these two very steep drops followed by a short adjust to a plateau for a few thousand iterations. We are unsure what has gone wrong with our code to cause such a graph.\n",
    "\n",
    "This final graph shows that our network is not able to converge for stochastic gradient descent with and without monentum method. We are not totally sure that what is wrong with the code to cause this and would love to know what is wrong."
   ]
  },
  {
   "cell_type": "markdown",
   "metadata": {
    "id": "sDJp99mK_Dr6"
   },
   "source": [
    "### Task 10: Example Evaluation (optional)\n",
    "\n",
    "We want to see what the network has learned.\n",
    "Therefore, we evaluate some data points that would represent a typical Swiss student (except for the school entry, where we select one of them randomly).\n",
    "You can select a specific example, but you can also imagine a student.\n",
    "Please refer to https://archive.ics.uci.edu/ml/datasets/Student+Performance on possible values and the implementation in Tasks 1 and 2 on how to generate an input sample $\\vec x$ for our network. Also, remember that input data need to be standardized before feeding it to the network. \n",
    "\n",
    "Compute the scores that your student would likely get by asking the network, using the parameters $\\Theta$ optimized with stochastic gradient descent.\n",
    "\n"
   ]
  },
  {
   "cell_type": "code",
   "execution_count": null,
   "metadata": {
    "id": "9RPCifeO_Dr6"
   },
   "outputs": [],
   "source": [
    "# select a specific example\n",
    "example = numpy.array([[\n",
    "  1.,    # BIAS\n",
    "  school = ['GP', 'MS'],   # school (select -1 or 1)\n",
    "  gender = ['M', 'F'],   # gender\n",
    "  age = [range(15, 22)],   # age\n",
    "  address = ['U', 'R'],   # adress\n",
    "  famsize = ['LE3', 'GT3'],   # family size\n",
    "  Pstatus = ['T', 'A'],   # parents living together\n",
    "  Medu = [0,1,2,3,4],   # mother education\n",
    "  Fedu = [0,1,2,3,4],   # father education\n",
    "  traveltime = [1,2,3,4],  # travel time\n",
    "  studytime = [1,2,3,4],   # study time\n",
    "  failures = [1,2,3,4],   # class failure before\n",
    "\n",
    "  schoolsup = ['Y','N'],   # support from school\n",
    "  famsup = ['Y','N'],   # support from the family\n",
    "  paid = ['Y','N'],   # paid extra support \n",
    "  activities = ['Y','N'],   # out-of-school activities\n",
    "  nursery = ['Y','N'],   # nursery school\n",
    "  higher = ['Y','N'],   # want to do higher ed\n",
    "  internet = ['Y','N'],   # internet access\n",
    "  romantic = ['Y','N'],   # romantic relation\n",
    "\n",
    "  famrel = [1,2,3,4,5],   # relation to family\n",
    "  freetime  = [1,2,3,4,5],   # amount of free time\n",
    "  goout = [1,2,3,4,5],   # go out with peers\n",
    "  Dalc = [1,2,3,4,5],   # alcoholic drinks during the week\n",
    "  Walc = [1,2,3,4,5],   # alcoholic drinks in the weekend\n",
    "  Health  = [1,2,3,4,5],   # health status\n",
    "  absence = [range(0,93)]    # days of absence\n",
    "]]).T\n",
    "\n",
    "# compute network output\n",
    "prediction = ...\n",
    "print(\"Prediction :\\t\", prediction)"
   ]
  },
  {
   "cell_type": "markdown",
   "metadata": {
    "id": "9lB1b-8V_Dr6"
   },
   "source": [
    "### Task 11: Influence of Data Dimensions (optional)\n",
    "\n",
    "\n",
    "For some dimensions in the input feature $\\vec x$, we want to test how different input values for this dimension would influence the outcome.\n",
    "Particularly, we test:\n",
    "\n",
    "  * Gender at index $d=2$: change between male ($1$) and female ($-1$)\n",
    "  * Weekly study time at index $d=10$: vary in the range $[1,4]$ \n",
    "  * Past Failures at index $d=11$: vary in range $[0,3]$ \n",
    "  * Additional classes at index $d=14$: change between yes ($1$) and no ($-1$)\n",
    "  * Romantic relations at index $d=19$: change between yes ($1$) and no ($-1$)\n",
    "  * Weekday alcohol consumption at index $d=23$: varies in the range $[1,6]$.\n",
    "\n",
    "Note that the indexes include the fact that we are omitting some input dimensions, so they might differ from what is listed on the webpage.\n",
    "\n",
    "Did you expect this output?\n",
    "\n"
   ]
  },
  {
   "cell_type": "code",
   "execution_count": null,
   "metadata": {
    "id": "buTufJpd_Dr6"
   },
   "outputs": [],
   "source": [
    "# implement a way to modify the input at a given index with certain values\n",
    "# and to predict and print the network output for this modification\n",
    "...\n",
    "# run this with the 4 modifications and their according to values as seen above\n",
    "..."
   ]
  }
 ],
 "metadata": {
  "colab": {
   "provenance": []
  },
  "interpreter": {
   "hash": "2dd53f8ad749bca69f7250ce75eb4f0def59db5cf79075a9716322ffc58e8a2e"
  },
  "kernelspec": {
   "display_name": "Python 3 (ipykernel)",
   "language": "python",
   "name": "python3"
  },
  "language_info": {
   "codemirror_mode": {
    "name": "ipython",
    "version": 3
   },
   "file_extension": ".py",
   "mimetype": "text/x-python",
   "name": "python",
   "nbconvert_exporter": "python",
   "pygments_lexer": "ipython3",
   "version": "3.10.9"
  }
 },
 "nbformat": 4,
 "nbformat_minor": 1
}
