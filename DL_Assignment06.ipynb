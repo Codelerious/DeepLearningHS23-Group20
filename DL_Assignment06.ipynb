{
  "cells": [
    {
      "cell_type": "markdown",
      "metadata": {
        "id": "eH27MSc7aQLq"
      },
      "source": [
        "# Assignment 6: Convolutional Networks\n",
        "\n",
        "Before we start, we should assure that we have activated CUDA -- otherwise training might take very long.\n",
        "In Google Colaboratory:\n",
        "\n",
        "1. Check the options Runtime -> Change Runtime Type on top of the page.\n",
        "2. In the popup window, select hardware accelerator GPU.\n",
        "\n",
        "Afterward, the following command should run successfully:"
      ]
    },
    {
      "cell_type": "code",
      "execution_count": 2,
      "metadata": {
        "colab": {
          "base_uri": "https://localhost:8080/"
        },
        "id": "jPstyY7AaQLv",
        "outputId": "5d6a361b-55e7-4204-b8e9-8ef0b15ae3c4"
      },
      "outputs": [
        {
          "output_type": "stream",
          "name": "stdout",
          "text": [
            "Successfully enabled CUDA processing\n"
          ]
        }
      ],
      "source": [
        "import torch\n",
        "if torch.cuda.is_available():\n",
        "  print(\"Successfully enabled CUDA processing\")\n",
        "else:\n",
        "  print(\"CUDA processing not available. Things will be slow :-(\")"
      ]
    },
    {
      "cell_type": "markdown",
      "metadata": {
        "id": "W08ImtCeaQLw"
      },
      "source": [
        "## Dataset\n",
        "\n",
        "In PyTorch, a dataset stores a list of input and target tensors $(X^n, T^n)$.\n",
        "In case of **MNIST** dataset, the inputs are $X^n \\in \\mathbb R^{28\\times28}$ and $T^n \\in \\{0,\\ldots,9\\}$.\n",
        "More precisely, the data in the dataset is provided in form of `PIL.Image.Image`, which represents an image class with some more functionality, and pixel values in range $[0, 255]$.\n",
        "In order to convert these images into `torch.Tensor`'s in range $[0,1]$, we can use the [ToTensor](https://pytorch.org/vision/main/generated/torchvision.transforms.ToTensor.html) transform.\n",
        "Furthermore, in `PyTorch` batches are created from datasets using the [DataLoader](https://pytorch.org/docs/stable/data.html#torch.utils.data.DataLoader) class."
      ]
    },
    {
      "cell_type": "markdown",
      "metadata": {
        "id": "q9s7rhj4iDKu"
      },
      "source": [
        "\n",
        "### Task 1: Dataset Loading\n",
        "\n",
        "\n",
        "Here, we use the [MNIST dataset](https://pytorch.org/vision/main/generated/torchvision.datasets.MNIST.html) of gray images for categorical classification.\n",
        "\n",
        "Write a function that returns the training and the testing set of MNIST, using the given transform."
      ]
    },
    {
      "cell_type": "code",
      "execution_count": 3,
      "metadata": {
        "id": "UdAXKwqUaQLx"
      },
      "outputs": [],
      "source": [
        "import torch\n",
        "import torchvision\n",
        "from torchvision import transforms\n",
        "\n",
        "def datasets(transform):\n",
        "    trainset = torchvision.datasets.MNIST(root='./data', train=True, download=True, transform=transform)\n",
        "    testset = torchvision.datasets.MNIST(root='./data', train=False, download=True, transform=transform)\n",
        "\n",
        "    return trainset, testset"
      ]
    },
    {
      "cell_type": "markdown",
      "metadata": {
        "id": "2Abp751vaQLx"
      },
      "source": [
        "### Test 1: Data Types\n",
        "\n",
        "When we create the dataset with `transform=None`, all inputs shall be of type `PIL.Image.Image`, and all targets are integral."
      ]
    },
    {
      "cell_type": "code",
      "execution_count": 4,
      "metadata": {
        "id": "hAMpr6hhaQLx",
        "colab": {
          "base_uri": "https://localhost:8080/"
        },
        "outputId": "d76f6638-9388-469f-de2f-4caf2787429b"
      },
      "outputs": [
        {
          "output_type": "stream",
          "name": "stdout",
          "text": [
            "Downloading http://yann.lecun.com/exdb/mnist/train-images-idx3-ubyte.gz\n",
            "Downloading http://yann.lecun.com/exdb/mnist/train-images-idx3-ubyte.gz to ./data/MNIST/raw/train-images-idx3-ubyte.gz\n"
          ]
        },
        {
          "output_type": "stream",
          "name": "stderr",
          "text": [
            "100%|██████████| 9912422/9912422 [00:00<00:00, 428160934.72it/s]"
          ]
        },
        {
          "output_type": "stream",
          "name": "stdout",
          "text": [
            "Extracting ./data/MNIST/raw/train-images-idx3-ubyte.gz to ./data/MNIST/raw\n"
          ]
        },
        {
          "output_type": "stream",
          "name": "stderr",
          "text": [
            "\n"
          ]
        },
        {
          "output_type": "stream",
          "name": "stdout",
          "text": [
            "\n",
            "Downloading http://yann.lecun.com/exdb/mnist/train-labels-idx1-ubyte.gz\n",
            "Downloading http://yann.lecun.com/exdb/mnist/train-labels-idx1-ubyte.gz to ./data/MNIST/raw/train-labels-idx1-ubyte.gz\n"
          ]
        },
        {
          "output_type": "stream",
          "name": "stderr",
          "text": [
            "100%|██████████| 28881/28881 [00:00<00:00, 108641877.87it/s]\n"
          ]
        },
        {
          "output_type": "stream",
          "name": "stdout",
          "text": [
            "Extracting ./data/MNIST/raw/train-labels-idx1-ubyte.gz to ./data/MNIST/raw\n",
            "\n",
            "Downloading http://yann.lecun.com/exdb/mnist/t10k-images-idx3-ubyte.gz\n",
            "Downloading http://yann.lecun.com/exdb/mnist/t10k-images-idx3-ubyte.gz to ./data/MNIST/raw/t10k-images-idx3-ubyte.gz\n"
          ]
        },
        {
          "output_type": "stream",
          "name": "stderr",
          "text": [
            "100%|██████████| 1648877/1648877 [00:00<00:00, 231827949.74it/s]\n"
          ]
        },
        {
          "output_type": "stream",
          "name": "stdout",
          "text": [
            "Extracting ./data/MNIST/raw/t10k-images-idx3-ubyte.gz to ./data/MNIST/raw\n",
            "\n",
            "Downloading http://yann.lecun.com/exdb/mnist/t10k-labels-idx1-ubyte.gz\n",
            "Downloading http://yann.lecun.com/exdb/mnist/t10k-labels-idx1-ubyte.gz to ./data/MNIST/raw/t10k-labels-idx1-ubyte.gz\n"
          ]
        },
        {
          "output_type": "stream",
          "name": "stderr",
          "text": [
            "100%|██████████| 4542/4542 [00:00<00:00, 22049223.11it/s]"
          ]
        },
        {
          "output_type": "stream",
          "name": "stdout",
          "text": [
            "Extracting ./data/MNIST/raw/t10k-labels-idx1-ubyte.gz to ./data/MNIST/raw\n",
            "\n"
          ]
        },
        {
          "output_type": "stream",
          "name": "stderr",
          "text": [
            "\n"
          ]
        }
      ],
      "source": [
        "import PIL\n",
        "trainset, testset = datasets(transform=None)\n",
        "\n",
        "for x,t in trainset:\n",
        "  # check datatype of input x\n",
        "  assert isinstance(x, PIL.Image.Image)\n",
        "  # check datatype of target t\n",
        "  assert isinstance(t, int)"
      ]
    },
    {
      "cell_type": "markdown",
      "metadata": {
        "id": "rEhGkNEdaQLy"
      },
      "source": [
        "### Task 2: Data Loaders\n",
        "\n",
        "\n",
        "Create the dataset with transform `ToTensor`. Create two data loaders, one for the training set and one for the testing set. The training batch size should be $B=64$, for the testing set, you can select any batch size of your choice.\n"
      ]
    },
    {
      "cell_type": "code",
      "execution_count": 5,
      "metadata": {
        "id": "72TgSAmDaQLy"
      },
      "outputs": [],
      "source": [
        "import torch\n",
        "import torchvision\n",
        "from torchvision import transforms\n",
        "\n",
        "# Define the transform to use\n",
        "transform = transforms.Compose([transforms.ToTensor()])\n",
        "\n",
        "# Load the MNIST dataset with the transform applied\n",
        "trainset = torchvision.datasets.MNIST(root='./data', train=True, download=True, transform=transform)\n",
        "testset = torchvision.datasets.MNIST(root='./data', train=False, download=True, transform=transform)\n",
        "\n",
        "# Define the batch size\n",
        "B = 64\n",
        "\n",
        "# Create a data loader for the training set with batch size B and shuffle the data\n",
        "trainloader = torch.utils.data.DataLoader(trainset, batch_size=B, shuffle=True)\n",
        "\n",
        "# Create a data loader for the testing set with any batch size (e.g. 32) and do not shuffle the data\n",
        "testloader = torch.utils.data.DataLoader(testset, batch_size=32, shuffle=False)\n"
      ]
    },
    {
      "cell_type": "markdown",
      "metadata": {
        "id": "_VmIeKXQaQLz"
      },
      "source": [
        "### Test 2: Batches\n",
        "\n",
        "Check that all batches generated by the training set data loader have the batch size of $B$ -- except for the last batch, which you need to compute by yourself (you might want to make use of the modulo operator `%`).\n",
        "\n",
        "Afterward, we check that all inputs and targets are of type `torch.Tensor`, that all input values are in range $[0,1]$ and that all target values are in range $[0,9]$."
      ]
    },
    {
      "cell_type": "code",
      "execution_count": 6,
      "metadata": {
        "id": "XQ-wtDlPaQL0"
      },
      "outputs": [],
      "source": [
        "# compute the size of last batch\n",
        "last_batch = len(trainset) % B\n",
        "\n",
        "for x,t in trainloader:\n",
        "  # check datatype, size and content of x\n",
        "  assert isinstance(x, torch.Tensor)\n",
        "  assert(torch.all(x >= 0)) and torch.all(x <= 1)  \n",
        "  assert (len(x)==B) or (len(x) == last_batch)  # <-- corrected condition\n",
        "\n",
        "  # check datatype, size and content of t\n",
        "  assert isinstance(t, torch.Tensor)\n",
        "  assert(torch.all(t >= 0)) and torch.all(t <= 9)\n",
        "  assert (len(t)==B) or (len(t) == last_batch)  # <-- corrected condition"
      ]
    },
    {
      "cell_type": "markdown",
      "metadata": {
        "id": "HCcVzXbiaQL0"
      },
      "source": [
        "## Networks\n",
        "As last week, we will rely on [Sequential](https://pytorch.org/docs/stable/generated/torch.nn.Sequential.html) to create networks with particular lists of consecutive layers.\n",
        "Particularly, we will investigate two different versions of networks, one fully-connected network and one convolutional network, with the same number of learnable layers.\n",
        "\n",
        "### Task 3: Fully-Connected Network\n",
        "\n",
        "\n",
        "Implement a function that returns a three-layer fully-connected network in `pytorch`.\n",
        "Use $\\tanh$ as activation function between the two fully-connected layers, and provide the possibility to change the number of inputs $D$, the number of hidden neurons $K$ and the number of outputs $O$.\n",
        "Use the following layers:\n",
        "\n",
        "1. A [Flatten layer](https://pytorch.org/docs/stable/generated/torch.nn.Flatten.html) to turn the $28\\times28$ pixel image (2D) into a $28\\cdot28$ pixel vector (1D).\n",
        "2. A [fully-connected layer](https://pytorch.org/docs/stable/generated/torch.nn.Linear.html) with D input neurons and K outputs.\n",
        "3. A [$\\tanh$ activation function](https://pytorch.org/docs/stable/generated/torch.nn.Tanh.html).\n",
        "4. A fully-connected layer with K input neurons and K outputs.\n",
        "5. A $\\tanh$ activation function.\n",
        "6. A fully-connected layer with K input neurons and O outputs."
      ]
    },
    {
      "cell_type": "code",
      "execution_count": 7,
      "metadata": {
        "id": "kUllttuBaQL0"
      },
      "outputs": [],
      "source": [
        "def fully_connected(D, K, O):\n",
        "    return torch.nn.Sequential(\n",
        "        torch.nn.Flatten(),\n",
        "        torch.nn.Linear(D, K),\n",
        "        torch.nn.Tanh(),\n",
        "        torch.nn.Linear(K, K),\n",
        "        torch.nn.Tanh(),\n",
        "        torch.nn.Linear(K, O)\n",
        "    )"
      ]
    },
    {
      "cell_type": "markdown",
      "metadata": {
        "id": "_nL0shNEaQL1"
      },
      "source": [
        "### Task 4: Convolutions Output (theoretical question)\n",
        "\n",
        "Consider the network as defined in Task 5.\n",
        "Assume that the input is a $28\\times28$ grayscale image.\n",
        "How many hidden neurons do we need in the final fully-connected layer for a given number $Q_2$ of output channels of the second convolution?\n",
        " "
      ]
    },
    {
      "cell_type": "markdown",
      "metadata": {
        "id": "jyHa7qUsw6wc"
      },
      "source": [
        "In a convolutional neural network, the output of the convolutional layers is a 3D tensor of shape (batch_size, channels, height, width), where \"channels\" refers to the number of channels produced by the convolutional layer, and \"height\" and \"width\" refer to the height and width of the output feature maps.\n",
        "\n",
        "In this case, we start with a $28 \\times 28$ grayscale image as input, which is a single channel, so the output of the first convolutional layer will have $Q_1$ channels and a height and width of $28$ (since we used \"same\" padding). Then we apply max pooling with a pooling size of $2 \\times 2$ and a stride of 2, which reduces the height and width by a factor of 2, giving us a 3D tensor with $Q_1$ channels and a height and width of 14.\n",
        "\n",
        "We then apply a second convolutional layer with $Q_2$ channels, which produces a 3D tensor with $Q_2$ channels and a height and width of 14 (again, due to the \"same\" padding). We apply another max pooling operation, which reduces the height and width to 7. Finally, we flatten the output and pass it through a fully connected layer with $O$ outputs.\n",
        "\n",
        "To determine the number of inputs to this fully connected layer, we need to compute the total number of features in the output of the second convolutional layer. The number of features in the output is simply the product of the number of channels, height, and width. In this case, we have $Q_2$ channels and a height and width of 7, so the total number of features is $Q_2 \\times 7 \\times 7 = 49Q_2$. Therefore, the number of inputs to the fully connected layer is 49 times the number of channels in the output of the second convolutional layer, which is $49Q_2$.\n",
        "\n",
        "So to answer the original question, for a given number $Q_2$ of output channels of the second convolutional layer, we need $49Q_2$ hidden neurons in the final fully connected layer."
      ]
    },
    {
      "cell_type": "markdown",
      "metadata": {
        "id": "OkWbJWGbaQL1"
      },
      "source": [
        "### Task 5: Convolutional Network\n",
        "\n",
        "Implement a function that generates a convolutional network with the following layers:\n",
        "\n",
        "1. A [2D convolutional layer](https://pytorch.org/docs/stable/generated/torch.nn.Conv2d.html) with $Q_1$ channels, kernel size $5\\times5$, stride 1 and padding 2.\n",
        "2. A [2D maximum pooling](https://pytorch.org/docs/stable/generated/torch.nn.MaxPool2d.html) with pooling size $2\\times2$ and stride 2.\n",
        "3. A $\\tanh$ activation function.\n",
        "4. A 2D convolutional layer with $Q_2$ channels, kernel size $5\\times5$, stride 1 and padding 2.\n",
        "5. A 2D maximum pooling with pooling size $2\\times2$ and stride 2.\n",
        "6. A $\\tanh$ activation function.\n",
        "7. A flattening layer to turn the 3D feature map into a 1D vector.\n",
        "8. A fully-connected layer with the appropriate number of inputs and $O$ outputs."
      ]
    },
    {
      "cell_type": "code",
      "execution_count": 8,
      "metadata": {
        "id": "mS9cuYsSaQL1"
      },
      "outputs": [],
      "source": [
        "def convolutional(Q1, Q2, O):\n",
        "    return torch.nn.Sequential(\n",
        "        torch.nn.Conv2d(1, Q1, kernel_size=5, stride=1, padding=2),\n",
        "        torch.nn.MaxPool2d(kernel_size=2, stride=2),\n",
        "        torch.nn.Tanh(),\n",
        "        torch.nn.Conv2d(Q1, Q2, kernel_size=5, stride=1, padding=2),\n",
        "        torch.nn.MaxPool2d(kernel_size=2, stride=2),\n",
        "        torch.nn.Tanh(),\n",
        "        torch.nn.Flatten(),\n",
        "        torch.nn.Linear(Q2*7*7, O)\n",
        "    )\n"
      ]
    },
    {
      "cell_type": "markdown",
      "metadata": {
        "id": "6IL7ji_qaQL2"
      },
      "source": [
        "## Network Training\n",
        "For training and evaluating the network, we rely on standard functionality in PyTorch.\n",
        "We use the standard [categorical cross-entropy loss](https://pytorch.org/docs/stable/nn.html#loss-functions) together with a [stochastic gradient descent](https://pytorch.org/docs/stable/generated/torch.optim.SGD.html) optimizer.\n",
        "For training, we use the batched implementation of the dataset, for which we perform one update step for each training batch.\n",
        "After having gone through the full training dataset, we compute accuracy and loss values for the testing set (we simply make use of the testing set for validation).\n",
        "\n",
        "\n",
        "### Task 6: Training and Validation Loop\n",
        "\n",
        "Implement a function that takes the network, the number of epochs, and the learning rate.\n",
        "Select the correct loss function for categorical classification and SGD optimizer.\n",
        "Iterate the following steps for the given number of epochs:\n",
        "\n",
        "1. Train the network with all batches of the training data.\n",
        "2. Compute the testing set loss and testing set accuracy.\n",
        "3. Store both in a vector.\n",
        "\n",
        "What do we need to take care of?\n",
        "\n",
        "Finally, return the lists of validation losses and accuracies."
      ]
    },
    {
      "cell_type": "markdown",
      "metadata": {
        "id": "8oLVgvz6zjFQ"
      },
      "source": [
        "There is a few things we need to be careful of; in the training function,\n",
        "\n",
        "1. Selecting the appropriate loss function and optimizer for categorical classification.\n",
        "2. Instantiating the correct device for training on GPU if available.\n",
        "3. Collecting loss values and accuracies over the training epochs.\n",
        "4. Training the network on all batches of the training data for each epoch.\n",
        "5. Computing the validation loss and accuracy on the testing data after each epoch."
      ]
    },
    {
      "cell_type": "code",
      "execution_count": 9,
      "metadata": {
        "id": "I8q12fyYaQL2"
      },
      "outputs": [],
      "source": [
        "def train(network, epochs, eta, momentum):\n",
        "    # select loss function and optimizer\n",
        "    loss_fn = torch.nn.CrossEntropyLoss()\n",
        "    optimizer = torch.optim.SGD(network.parameters(), lr=eta, momentum=momentum)\n",
        "\n",
        "    # instantiate the correct device\n",
        "    device = torch.device(\"cuda\" if torch.cuda.is_available() else \"cpu\")\n",
        "    network = network.to(device)\n",
        "\n",
        "    # collect loss values and accuracies over the training epochs\n",
        "    val_loss, val_acc = [], []\n",
        "\n",
        "    for epoch in range(epochs):\n",
        "        # train network on training data\n",
        "        network.train() # set to train mode\n",
        "        for x, t in trainloader:\n",
        "            # put data to device\n",
        "            x, t = x.to(device), t.to(device)\n",
        "\n",
        "            # train\n",
        "            optimizer.zero_grad()\n",
        "            y = network(x)\n",
        "            loss = loss_fn(y, t)\n",
        "            loss.backward()\n",
        "            optimizer.step()\n",
        "\n",
        "        # test network on test data\n",
        "        network.eval() # set to evaluation mode\n",
        "        correct, total_loss = 0, 0\n",
        "        with torch.no_grad():\n",
        "            for x, t in testloader:\n",
        "                # put data to device\n",
        "                x, t = x.to(device), t.to(device)\n",
        "\n",
        "                # compute validation loss\n",
        "                y = network(x)\n",
        "                loss = loss_fn(y, t)\n",
        "                total_loss += loss.item()\n",
        "\n",
        "                # compute validation accuracy\n",
        "                _, predicted = torch.max(y.data, 1)\n",
        "                correct += (predicted == t).sum().item()\n",
        "\n",
        "        # store loss and accuracy values\n",
        "        avg_loss = total_loss / len(testloader.dataset)\n",
        "        avg_acc = correct / len(testloader.dataset)\n",
        "        val_loss.append(avg_loss)\n",
        "        val_acc.append(avg_acc)\n",
        "\n",
        "    # return loss and accuracy values\n",
        "    return val_loss, val_acc\n"
      ]
    },
    {
      "cell_type": "markdown",
      "metadata": {
        "id": "tEssOE_PaQL2"
      },
      "source": [
        "### Task 7: Fully-Connected Training\n",
        "\n",
        "Create a fully-connected network with $K=100$ hidden and $O=10$ output neurons.\n",
        "Train the network for 10 epochs with $\\eta=0.01$, $momentum=0.9$ and store the obtained test losses and accuracies.\n",
        "Brave people can also train for 100 epochs (which will take up to 30 minutes)."
      ]
    },
    {
      "cell_type": "code",
      "execution_count": 10,
      "metadata": {
        "id": "EjW7zpuvaQL2"
      },
      "outputs": [],
      "source": [
        "# Create the network\n",
        "fc = fully_connected(28*28, 100, 10)\n",
        "\n",
        "# Train the network for 2 epochs with a learning rate of 0.01 and momentum of 0.9\n",
        "fc_loss, fc_acc = train(fc, 100, 0.01, 0.9)"
      ]
    },
    {
      "cell_type": "markdown",
      "metadata": {
        "id": "eGW5qI6naQL3"
      },
      "source": [
        "### Task 8: Convolutional Training\n",
        "\n",
        "\n",
        "Create a convolutional network with $Q_1=16$ and $Q_2=32$ convolutional channels and $O=10$ output neurons.\n",
        "Train the network for 10 epochs with $\\eta=0.01$, momentum $=0.9$ and store the obtained test losses and accuracies.\n",
        "Again, 100 epochs will take up to 30 minutes."
      ]
    },
    {
      "cell_type": "code",
      "execution_count": 11,
      "metadata": {
        "id": "4hQSxjIEaQL3"
      },
      "outputs": [],
      "source": [
        "# Define the network architecture\n",
        "cv = convolutional(16, 32, 10)\n",
        "\n",
        "# Train the network for 2 epochs with a learning rate of 0.01 and momentum of 0.9\n",
        "cv_loss, cv_acc = train(cv, 100, 0.01, 0.9)"
      ]
    },
    {
      "cell_type": "markdown",
      "metadata": {
        "id": "R2lhQiuyaQL3"
      },
      "source": [
        "### Task 9: Plotting\n",
        "\n",
        "Plot the two lists of loss values in one plot. Plot the two lists of accuracy values into another plot."
      ]
    },
    {
      "cell_type": "code",
      "execution_count": 12,
      "metadata": {
        "colab": {
          "base_uri": "https://localhost:8080/",
          "height": 333
        },
        "id": "8SMsfktXaQL3",
        "outputId": "9a30df1f-f37b-4863-eb90-fbcc207a063f"
      },
      "outputs": [
        {
          "output_type": "display_data",
          "data": {
            "text/plain": [
              "<Figure size 1000x300 with 2 Axes>"
            ],
            "image/png": "[encoded data removed]"
          },
          "metadata": {}
        }
      ],
      "source": [
        "from matplotlib import pyplot\n",
        "\n",
        "# plot loss values of FC and CV network over epochs\n",
        "pyplot.figure(figsize=(10, 3))\n",
        "ax = pyplot.subplot(121)\n",
        "pyplot.plot(fc_loss, label='Fully Connected')\n",
        "pyplot.plot(cv_loss, label='Convolutional')\n",
        "pyplot.xlabel('Epochs')\n",
        "pyplot.ylabel('Loss')\n",
        "ax.set_title('Loss over Epochs')\n",
        "pyplot.legend()\n",
        "\n",
        "# plot accuracy values of FC and CV network over epochs\n",
        "ax = pyplot.subplot(122)\n",
        "pyplot.plot(fc_acc, label='Fully Connected')\n",
        "pyplot.plot(cv_acc, label='Convolutional')\n",
        "pyplot.xlabel('Epochs')\n",
        "pyplot.ylabel('Accuracy')\n",
        "ax.set_title('Accuracy over Epochs')\n",
        "pyplot.legend()\n",
        "\n",
        "pyplot.show()"
      ]
    },
    {
      "cell_type": "markdown",
      "source": [
        "Looking at the \"Loss over Epochs\" graph, we can see that for both the fully connected and convolutional networks, the loss value drops rapidly to a minimum initially, with the convolutional network achieving a lower value.\n",
        "\n",
        "The fluctuations we see just after this drop are caused by the optimization algorithm (SGD in this case) trying to find the optimal weights and biases for the networks such that the loss function is minimized, being done iteratively. The algorithm takes a step that increases the loss temporarily before converging towards the optimal solution, as in the case of the convolutional network. This is especially prevalent if the learning rate is high or when the algorithm encounters a saddle point or a local minimum.\n",
        "\n",
        "The increasing loss value we see in the fully connected network is probably caused by the network becoming overfit to the training data. The model becomes too specialized to the training data and is unable to generalize to new data, or the learning rate is too high, causing the model to overshoot the optimal weights during training. One way to fix this problem would be to implement a training indicator that monitors the loss value. If the loss value after x number of epochs has the overall increasing trend, we can stop the network from training and thereby prevent overfitting.\n",
        "\n",
        "Now looking at the \"Accuracy over Epochs\" graph, we see a rapid increase in the accuracy value at the start. This corresponds to the network's initial training as the weights and biases quickly converge to the global minimum of the loss function. The same fluctuations are also seen in the graph after this increase for the same reasons we see them in the loss graph. However, the key takeaway is that the convolutional network achieved a much higher accuracy value compared to the fully connected network, making it the superior network in this case. The reason for this is:\n",
        "\n",
        "Convolutional neural networks (CNNs) are particularly designed to work with image data, which has a high-dimensional structure with local spatial correlations between neighboring pixels. In contrast, a fully connected neural network (FCNN) is designed to work with one-dimensional data such as time series or flattened images.\n",
        "\n",
        "CNNs can learn spatial features of images using convolutional and pooling layers, which can reduce the number of parameters and extract relevant features in a hierarchical manner. This allows the network to focus on relevant spatial features, such as edges and corners, and reduce the sensitivity to irrelevant variations in the image.\n",
        "\n",
        "FCNNs, on the other hand, may struggle to capture the relevant spatial features due to their lack of built-in spatial invariance. They rely on the input data to be flattened, and thus lose the original spatial structure of the data. This means that FCNNs have to learn the spatial features in a more complex and computationally expensive way by increasing the number of neurons and layers."
      ],
      "metadata": {
        "id": "bXCs0qqgJUtE"
      }
    },
    {
      "cell_type": "markdown",
      "metadata": {
        "id": "vua5OAWnaQL3"
      },
      "source": [
        "### Task 10: Learnable Parameters \n",
        "\n",
        "Estimate roughly how many learnable parameters the two networks have by analytically computing and adding the number of parameters in each layer.\n",
        "\n",
        "Fully-connected Network:\n",
        "\n",
        "- Flatten layer: 0 parameters (no learnable weights or biases)\n",
        "- First fully-connected layer: (D x K) + K = (28*28) * 100 + 100 = 78500 parameters\n",
        "- Tanh activation function: 0 parameters \n",
        "- Second fully-connected layer: (D x K) + K = 100 * 100 + 100 = 10100 parameters\n",
        "- Tanh activation function: 0 parameters \n",
        "- Third fully-connected layer: (D x K) + K = 100 * 10 + 10 = 1010 parameters\n",
        "- Total: 89610\n",
        "\n",
        "Convolutional Network:\n",
        "\n",
        "- 2D convolutional layer: C x (F x E x E + F) = 16 x (5 x 5 x 1 + 1) = 416\n",
        "- 2D maximum pooling layer: 0\n",
        "- Tanh activation function: 0\n",
        "- 2D convolutional layer: C x (F x K x K + F) = 32 x (5 x 5 x 16 + 1) = 12,832\n",
        "- 2D maximum pooling layer: 0\n",
        "- Tanh activation function: 0\n",
        "- Flattening layer: 0\n",
        "- Fully-connected layer: D x K + K = 1568 x 10 + 10 = 15,690\n",
        "- Total: 28,938\n",
        "\n",
        "Where input has D neurons, the output has K neurons, C is input channel number, F is output filters, the kernel has size E and F biases\n",
        "\n",
        "Now, compute the number of parameters in the networks by summing the number of parameters in each layer using `pytorch` functionality.\n",
        "You can use the `numel()` function from a `torch.Tensor` to provide the number of (learnable) parameters stored in a tensor.\n",
        "How do you obtain this list of all learnable parameters from a `pytorch` [Module](https://pytorch.org/docs/stable/generated/torch.nn.Module.html)?"
      ]
    },
    {
      "cell_type": "code",
      "execution_count": 17,
      "metadata": {
        "colab": {
          "base_uri": "https://localhost:8080/"
        },
        "id": "aC_ZOtKUaQL4",
        "outputId": "53db7db3-328f-4a48-ca63-6840224ef8f0"
      },
      "outputs": [
        {
          "output_type": "stream",
          "name": "stdout",
          "text": [
            "Fully-connected Network: 89610\n",
            "Convolutional Network: 28938\n"
          ]
        }
      ],
      "source": [
        "def parameter_count(network):\n",
        "    return sum(p.numel() for p in network.parameters() if p.requires_grad)\n",
        "\n",
        "print(\"Fully-connected Network:\", parameter_count(fc))\n",
        "print(\"Convolutional Network:\", parameter_count(cv))"
      ]
    },
    {
      "cell_type": "markdown",
      "source": [
        "The pooling, activation, and flattening layers do not have learnable parameters because they do not change the weights of the network during training. With pooling layer performs a fixed operation (e.g. taking the maximum value within a certain kernel) that does not require any learnable parameters. Similarly, the activation layer only applies a fixed function to its inputs (tanh in this case) that does not require any learnable parameters. Finally, the flattening layer simply restructures the tensor from a higher-dimensional tensor to a 1D tensor without modifying any values, and thus also has no learnable parameters."
      ],
      "metadata": {
        "id": "Zi-JJE3PiGWn"
      }
    }
  ],
  "metadata": {
    "accelerator": "GPU",
    "colab": {
      "provenance": []
    },
    "gpuClass": "standard",
    "interpreter": {
      "hash": "2dd53f8ad749bca69f7250ce75eb4f0def59db5cf79075a9716322ffc58e8a2e"
    },
    "kernelspec": {
      "display_name": "Python 3.8.10 ('DL')",
      "language": "python",
      "name": "python3"
    },
    "language_info": {
      "codemirror_mode": {
        "name": "ipython",
        "version": 3
      },
      "file_extension": ".py",
      "mimetype": "text/x-python",
      "name": "python",
      "nbconvert_exporter": "python",
      "pygments_lexer": "ipython3",
      "version": "3.8.13"
    }
  },
  "nbformat": 4,
  "nbformat_minor": 0
}